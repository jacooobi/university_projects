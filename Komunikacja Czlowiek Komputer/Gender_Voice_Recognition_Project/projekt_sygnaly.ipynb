{
 "cells": [
  {
   "cell_type": "code",
   "execution_count": 28,
   "metadata": {
    "collapsed": false
   },
   "outputs": [],
   "source": [
    "%matplotlib inline\n",
    "\n",
    "from __future__ import division\n",
    "from pylab import *\n",
    "from numpy import *\n",
    "from scipy import *\n",
    "import os\n",
    "import scipy.io.wavfile\n",
    "\n",
    "# Parabolic interpolation\n",
    "def parabolic(f, x):\n",
    "    xv = 1/2. * (f[x-1] - f[x+1]) / (f[x-1] - 2 * f[x] + f[x+1]) + x\n",
    "    yv = f[x] - 1/4. * (f[x-1] - f[x+1]) * (xv - x)\n",
    "    return (xv, yv)\n",
    "\n",
    "# pobieramy liste plikow wav do wczytania\n",
    "file_paths = []\n",
    "for folder, subs, files in os.walk('./train'):\n",
    "    for filename in files:\n",
    "        file_paths.append(os.path.abspath(os.path.join(folder, filename)))\n",
    "        \n",
    "# Przykładowe przedziały\n",
    "## korzystajac ze zbioru wartosci testowych ogarnac srednia zakres wartosci dla kobiety i mezczyzny\n",
    "## wg. wiki jest to 85-180 Hz dla mezczyzny a 165-255 dla kobiety\n",
    "man_freq = (80, 170)\n",
    "woman_freq = (171, 255)\n",
    "\n",
    "test_file = file_paths[1]"
   ]
  },
  {
   "cell_type": "code",
   "execution_count": 29,
   "metadata": {
    "collapsed": false
   },
   "outputs": [
    {
     "name": "stdout",
     "output_type": "stream",
     "text": [
      "487.807985818\n"
     ]
    }
   ],
   "source": [
    "# PROBA ROZWIAZANIA ZA POMOCA TRANSFORMATY FOURIERA\n",
    "\n",
    "def my_fft_freq(filename):\n",
    "    w, signal = scipy.io.wavfile.read(filename) # problem z odczytaniem niektorych plikow\n",
    "\n",
    "    if len(signal.shape) > 1:\n",
    "        signal = [s[0] for s in signal] # niektore pliki maja dwa kanaly a inne tylko jeden - analizujemy tylko ten pierszy\n",
    "\n",
    "    spectrum = fft(signal)\n",
    "\n",
    "    real_values = abs(spectrum[1:len(spectrum)//2 + 1]) # pobieramy wartosci rzeczywiste z pierwszej polowy ( druga symetryczna )\n",
    "    max_amplitude = max(real_values)\n",
    "    index_max = np.argmax(real_values)\n",
    "\n",
    "    freqs = np.arange(0, w/2, w / len(signal)) # tworzymy liste czestotliwosci odpowiadajaca osi X\n",
    "    print(freqs[index_max]) # wybieramy z niej wartosc o najwiekszej amplitudzie i odczytujemy w ten sposob czestotliwosc tonu podstawowego \n",
    "\n",
    "    \n",
    "my_fft_freq(test_file)\n",
    "\n",
    "# TODO\n",
    "\n",
    "# pliki roznia sie dlugoscia, aby przyspieszyc analize mozna analizowac tylko fragment - pytanie jak go wybrac zeby byly pelne okresy \n",
    "# jakies materialy \n",
    "# https://sound.eti.pg.gda.pl/student/akmuz/03-f0.pdf - opisana autokorelacja (nie czytalem jeszcze)\n",
    "# http://stackoverflow.com/questions/30683040/matlab-how-to-find-fundamental-frequency-of-a-speech - odczytywaniu tonu podstawowego\n",
    "# http://www.mathworks.com/matlabcentral/answers/28239-get-frequencies-out-of-data-with-an-fft - wzor na zamiane osi X po zrobieniu FFT na sygnale\n",
    "# http://stackoverflow.com/questions/4364823/how-do-i-obtain-the-frequencies-of-each-value-in-an-fft/4371627#4371627 - podobnie ale czytelniej\n"
   ]
  },
  {
   "cell_type": "code",
   "execution_count": 86,
   "metadata": {
    "collapsed": false
   },
   "outputs": [
    {
     "name": "stdout",
     "output_type": "stream",
     "text": [
      "Kobieta:\n"
     ]
    },
    {
     "name": "stderr",
     "output_type": "stream",
     "text": [
      "/usr/local/lib/python3.5/site-packages/scipy/io/wavfile.py:267: WavFileWarning: Chunk (non-data) not understood, skipping it.\n",
      "  WavFileWarning)\n"
     ]
    },
    {
     "name": "stdout",
     "output_type": "stream",
     "text": [
      "/Users/tomek/University/KCK/voice/train/001_K.wav file broken\n",
      "Mężczyzna:\n",
      "/Users/tomek/University/KCK/voice/train/002_M.wav file broken\n",
      "Kobieta:\n",
      "/Users/tomek/University/KCK/voice/train/003_K.wav file broken\n",
      "Mężczyzna:\n",
      "/Users/tomek/University/KCK/voice/train/004_M.wav file broken\n",
      "Mężczyzna:\n",
      "/Users/tomek/University/KCK/voice/train/005_M.wav file broken\n",
      "Kobieta:\n",
      "/Users/tomek/University/KCK/voice/train/006_K.wav file broken\n",
      "Mężczyzna:\n",
      "/Users/tomek/University/KCK/voice/train/007_M.wav file broken\n",
      "Kobieta:\n"
     ]
    },
    {
     "name": "stderr",
     "output_type": "stream",
     "text": [
      "/usr/local/lib/python3.5/site-packages/ipykernel/__main__.py:27: VisibleDeprecationWarning: converting an array with ndim > 0 to an index will result in an error in the future\n"
     ]
    },
    {
     "name": "stdout",
     "output_type": "stream",
     "text": [
      "f = [ 275.625] Hz\n",
      "Kobieta:\n",
      "f = [ 300.] Hz\n",
      "Mężczyzna:\n",
      "f = [ 150.] Hz\n"
     ]
    }
   ],
   "source": [
    "# ROZWIAZANIE PRZY POMOCY AUTOKORELACJI\n",
    "\n",
    "# wybieramy ramkę czasową od 1 do 3 sekundy\n",
    "\n",
    "def autocorr(signal):\n",
    "    original_signal = np.array(signal)\n",
    "    correlations_vector = np.array([])\n",
    "    for i in range(TOTAL_FRAMES):\n",
    "        corelation = np.corrcoef(original_signal, signal)[0][1]\n",
    "        correlations_vector = np.append(correlations_vector, corelation)\n",
    "        signal = np.delete(signal, 0)\n",
    "        signal = np.append(signal, 0)\n",
    "        \n",
    "    return correlations_vector\n",
    "\n",
    "def find_T(filename):\n",
    "    FRAME_ONE = 44100\n",
    "    FRAME_TWO = 3 * 44100\n",
    "    TOTAL_FRAMES =  int((FRAME_TWO - FRAME_ONE))\n",
    "\n",
    "    w, signal = scipy.io.wavfile.read(filename)\n",
    "    if len(signal.shape) > 1:\n",
    "        signal = [s[0] for s in signal]\n",
    "\n",
    "    correlations_vector = autocorr(signal)\n",
    "    start = argwhere(correlations_vector <= 0)[0]\n",
    "    corr = correlations_vector[start:]\n",
    "    max_index = argmax(corr)\n",
    "    \n",
    "    print('f = ' + str(w / (start + max_index)) + ' Hz')\n",
    "    \n",
    "for f in file_paths[0:10]:\n",
    "    try:\n",
    "        if '_K' in f:\n",
    "            print('Kobieta:')\n",
    "        else:\n",
    "            print('Mężczyzna:')\n",
    "\n",
    "        find_T(f)\n",
    "    except:\n",
    "        print(f + ' file broken')\n",
    "    \n",
    "def autocorrelation_freq_test(filename):\n",
    "    FRAME_ONE = 44100\n",
    "    FRAME_TWO = 1.4 * 44100\n",
    "    TOTAL_FRAMES =  int((FRAME_TWO - FRAME_ONE))\n",
    "\n",
    "    w, signal = scipy.io.wavfile.read(filename)\n",
    "    if len(signal.shape) > 1:\n",
    "        signal = [s[0] for s in signal]\n",
    "\n",
    "    correlations_vector = autocorr(signal)\n",
    "\n",
    "    fig = plt.figure(figsize=(15,6), dpi=160)\n",
    "    ax = fig.add_subplot(131)\n",
    "    ax.plot(signal[int(FRAME_ONE):int(FRAME_TWO)])\n",
    "\n",
    "    ax = fig.add_subplot(132)\n",
    "    ax.plot(correlations_vector)\n",
    "    \n",
    "    ax = fig.add_subplot(133)\n",
    "    \n",
    "#     d = diff(correlations_vector)\n",
    "    start = argwhere(correlations_vector <= 0)[0]\n",
    "    corr = correlations_vector[start:]\n",
    "    max_index = argmax(corr)\n",
    "    \n",
    "    print('max: ' + str(start + max_index))\n",
    "    ax.plot(corr)\n",
    "    \n",
    "    # Find frequency\n",
    "    \n",
    "        \n",
    "# autocorrelation_freq_test(test_file)\n",
    "# find_T(file_paths[6])\n",
    "\n",
    "# TODO -> wyciagnac maksymalna wartosc -> wyzerowac jego otoczenie (opcjonalne) -> pobrać kolejny peak\n",
    "# -> obliczyc okres miedzy dwoma -> czestotliwosc = 1/okres -> uznac czy to jest K czy M\n",
    "# (do okreslenia jakosci naszego algorytmu) porownac wynik dla okreslonego pliku z jego nazwa i okreslić success rate"
   ]
  },
  {
   "cell_type": "code",
   "execution_count": null,
   "metadata": {
    "collapsed": false
   },
   "outputs": [
    {
     "name": "stderr",
     "output_type": "stream",
     "text": [
      "/usr/local/lib/python3.5/site-packages/scipy/io/wavfile.py:267: WavFileWarning: Chunk (non-data) not understood, skipping it.\n",
      "  WavFileWarning)\n"
     ]
    },
    {
     "name": "stdout",
     "output_type": "stream",
     "text": [
      "/Users/tomek/University/KCK/voice/train/001_K.wav file is broken.\n",
      "/Users/tomek/University/KCK/voice/train/020_M.wav file is broken.\n",
      "/Users/tomek/University/KCK/voice/train/028_K.wav file is broken.\n",
      "/Users/tomek/University/KCK/voice/train/029_K.wav file is broken.\n",
      "/Users/tomek/University/KCK/voice/train/030_M.wav file is broken.\n",
      "/Users/tomek/University/KCK/voice/train/037_K.wav file is broken.\n",
      "/Users/tomek/University/KCK/voice/train/038_M.wav file is broken.\n"
     ]
    }
   ],
   "source": [
    "# https://gist.github.com/endolith/255291#file-frequency_estimator-py-L52\n",
    "from scipy.signal import fftconvolve\n",
    "\n",
    "def find_frequency(sig, w):\n",
    "    # Calculate autocorrelation (same thing as convolution, but with\n",
    "    # one input reversed in time), and throw away the negative lags\n",
    "    corr = fftconvolve(sig, sig[::-1], mode='full')\n",
    "    corr = corr[len(corr)//2:]\n",
    "\n",
    "    # Find the first low point\n",
    "#     d = diff(corr)\n",
    "    start = find(corr <= 0)[0]\n",
    "\n",
    "    # Find the next peak after the low point (other than 0 lag).  This bit is\n",
    "    # not reliable for long signals, due to the desired peak occurring between\n",
    "    # samples, and other peaks appearing higher.\n",
    "    # Should use a weighting function to de-emphasize the peaks at longer lags.\n",
    "    peak = argmax(corr[start:])\n",
    "    \n",
    "    return w / (peak + start)\n",
    "\n",
    "results = []\n",
    "for f in file_paths:\n",
    "    try:        \n",
    "        w, signal = scipy.io.wavfile.read(f)\n",
    "\n",
    "        gender = 'M' if '_M' in f else 'K'\n",
    "        freq = find_frequency(signal, w)\n",
    "        \n",
    "        results.append((gender, freq))        \n",
    "    except:\n",
    "        print(f + \" file is broken.\")\n",
    "        \n",
    "for threshold in np.arange(100, 200):\n",
    "    successes = []\n",
    "    for (gender, freq) in results:\n",
    "        g = 'K' if freq > threshold else 'M'\n",
    "\n",
    "        if gender == g:\n",
    "            successes.append(True)\n",
    "        else:\n",
    "            successes.append(False)\n",
    "    \n",
    "    success_rate = successes.count(True) / len(results)\n",
    "    \n",
    "    print('Success rate for ' + str(threshold) + ' threshold is: ' + str(success_rate) + '%')\n",
    "            \n",
    "        \n",
    "            "
   ]
  },
  {
   "cell_type": "code",
   "execution_count": null,
   "metadata": {
    "collapsed": true
   },
   "outputs": [],
   "source": []
  },
  {
   "cell_type": "code",
   "execution_count": null,
   "metadata": {
    "collapsed": true
   },
   "outputs": [],
   "source": []
  }
 ],
 "metadata": {
  "anaconda-cloud": {},
  "kernelspec": {
   "display_name": "Python 3",
   "language": "python",
   "name": "python3"
  },
  "language_info": {
   "codemirror_mode": {
    "name": "ipython",
    "version": 3
   },
   "file_extension": ".py",
   "mimetype": "text/x-python",
   "name": "python",
   "nbconvert_exporter": "python",
   "pygments_lexer": "ipython3",
   "version": "3.5.2"
  }
 },
 "nbformat": 4,
 "nbformat_minor": 1
}
